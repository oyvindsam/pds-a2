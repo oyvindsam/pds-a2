{
 "cells": [
  {
   "cell_type": "code",
   "execution_count": 1,
   "metadata": {},
   "outputs": [],
   "source": [
    "import glob\n",
    "import matplotlib.pyplot as plt\n",
    "import pandas as pd\n",
    "from pandas import DataFrame\n",
    "from pandas.plotting import scatter_matrix\n"
   ]
  },
  {
   "cell_type": "code",
   "execution_count": 10,
   "metadata": {
    "pycharm": {
     "name": "#%%\n"
    }
   },
   "outputs": [
    {
     "name": "stdout",
     "output_type": "stream",
     "text": [
      "x min max: 282 3828\n",
      "y min max: 2 4095\n",
      "z min max: 1 4095\n",
      "1    608667\n",
      "7    593563\n",
      "4    357064\n",
      "3    216737\n",
      "5     51498\n",
      "2     47878\n",
      "6     47770\n",
      "Name: label, dtype: int64\n"
     ]
    }
   ],
   "source": [
    "# See data/REAMD.md for longer names/details.\n",
    "columns = ['x', 'y', 'z', 'label']\n",
    "labels = ['Computer', 'Moving', 'Standing', 'Walking', 'Stairs',\n",
    "          'Walking + talking', 'Standing + talking']\n",
    "labels_map = {\n",
    "    1: 'Computer',\n",
    "    2: 'Moving',\n",
    "    3: 'Standing',\n",
    "    4: 'Walking',\n",
    "    5: 'Stairs',\n",
    "    6: 'Walking + talking',\n",
    "    7: 'Standing + talking'\n",
    "}\n",
    "\n",
    "\n",
    "ad = DataFrame()\n",
    "# find all csv files\n",
    "files = glob.glob('data/*.csv')\n",
    "# use only 1 file:\n",
    "#files = ['data/1.csv']\n",
    "# concatenate all 15 data files\n",
    "# usecols is used to skip reading the 'id' column, which has errors\n",
    "for file in files:\n",
    "    person_data = pd.read_csv(file, sep=',', header=None, names=columns,\n",
    "                 usecols=[1,2,3,4])\n",
    "    id = file.split('data/')[1].split('.csv')[0]\n",
    "    person_data['person'] = id\n",
    "    person_data = person_data.loc[(person_data['label'] >= 1) & (person_data['label'] <= 7), :]\n",
    "\n",
    "    ad = pd.concat([ad, person_data])\n",
    "\n",
    "# TODO: put some reasonable values here\n",
    "x_min_max = (1455, 2356)\n",
    "y_min_max = (1697, 2713)\n",
    "z_min_max = (1644, 2739)\n",
    "\n",
    "# From this we can see the data is unbalanced, 'moving' has 928 data points,\n",
    "# while 'standing + walking' has 83748. When using knn, the feature with most\n",
    "# data points will be favoured.\n",
    "for column in columns:\n",
    "\n",
    "    if column == 'label':\n",
    "\n",
    "        print(ad[column].value_counts())\n",
    "    if column == 'x':\n",
    "        # TODO detect anomalies\n",
    "        #print(ad[column].sort_values().tail(40))\n",
    "        print(column, 'min max:', ad[column].min(), ad[column].max())\n",
    "    if column == 'y':\n",
    "        print(column, 'min max:', ad[column].min(), ad[column].max())\n",
    "    if column == 'z':\n",
    "        print(column, 'min max:', ad[column].min(), ad[column].max())\n",
    "\n",
    "ad['label'] = ad['label'].map(labels_map)\n",
    "\n",
    "accs = ['x', 'y', 'z']\n",
    "\n",
    "label_color = {\n",
    "    'Computer': 'red',\n",
    "    'Moving': 'green',\n",
    "    'Standing': 'black',\n",
    "    'Walking': 'yellow',\n",
    "    'Stairs': 'cyan',\n",
    "    'Walking + talking': 'orange',\n",
    "    'Standing + talking': 'purple' ,\n",
    "}\n",
    "\n",
    "# add a color to each class (label)\n",
    "ad['color'] = ad['label'].map(label_color)\n"
   ]
  },
  {
   "cell_type": "code",
   "execution_count": null,
   "metadata": {
    "pycharm": {
     "name": "#%%\n"
    }
   },
   "outputs": [],
   "source": [
    "scatter_matrix(ad, alpha=.2, figsize=(16,16), diagonal='hist')\n",
    "# plt.savefig('scattermat.png')"
   ]
  },
  {
   "cell_type": "code",
   "execution_count": 13,
   "outputs": [],
   "source": [
    "outs = ad.loc[(ad['z'] > 3800) | (ad['y'] > 3800), :]"
   ],
   "metadata": {
    "collapsed": false,
    "pycharm": {
     "name": "#%%\n"
    }
   }
  },
  {
   "cell_type": "code",
   "execution_count": null,
   "metadata": {
    "pycharm": {
     "name": "#%%\n"
    }
   },
   "outputs": [],
   "source": [
    "def explore_acc(feature='x'):\n",
    "    feat = ad[feature]\n",
    "    print(f\"{feature} min: {ad[feature].min()}, max: {ad[feature].max()}\")\n",
    "    # show statistics\n",
    "    print(feat.value_counts(bins=10, normalize=True, sort=False))\n",
    "    # plot distribution\n",
    "    print(feat.plot.hist(bins=100))\n",
    "    plt.xlabel(feature)\n",
    "\n",
    "explore_acc()\n"
   ]
  },
  {
   "cell_type": "code",
   "execution_count": null,
   "metadata": {
    "pycharm": {
     "name": "#%%\n"
    }
   },
   "outputs": [],
   "source": [
    "def explore_label():\n",
    "    feat = ad['label']\n",
    "\n",
    "    # Show statistics and distribution\n",
    "    print(feat.value_counts(normalize=True, sort=True))\n",
    "    feat.value_counts(normalize=True, sort=True).plot.pie()\n",
    "\n",
    "explore_label()"
   ]
  },
  {
   "cell_type": "code",
   "execution_count": null,
   "metadata": {
    "pycharm": {
     "name": "#%%\n"
    }
   },
   "outputs": [],
   "source": [
    "# Explore pair of attributes (columns)\n",
    "# plot labels against each acceleration\n",
    "for acc in accs:\n",
    "    fig, ax = plt.subplots(1, 1)\n",
    "\n",
    "    for label in labels:\n",
    "        label_acc = ad.loc[ad['label'] == label, acc]\n",
    "        label_acc.plot.box()\n",
    "\n",
    "    plt.title(f\"Distribution of {acc} for each class of movement\")\n",
    "    plt.xlabel('Acceleration')\n",
    "    plt.ylabel('Density')\n",
    "    plt.legend(labels)\n",
    "    fig.show()\n",
    "    #break"
   ]
  },
  {
   "cell_type": "code",
   "execution_count": null,
   "metadata": {
    "pycharm": {
     "name": "#%%\n"
    }
   },
   "outputs": [],
   "source": [
    "for label in labels:\n",
    "    label_acc = ad.loc[ad['label'] == label, accs]\n",
    "    fig, ax = plt.subplots()\n",
    "    label_acc.boxplot(grid=False)\n",
    "    plt.show()\n"
   ]
  },
  {
   "cell_type": "code",
   "execution_count": null,
   "metadata": {
    "pycharm": {
     "name": "#%%\n"
    }
   },
   "outputs": [],
   "source": [
    "# Hypothesis: I expect to see some relationship between accelerations, eg.\n",
    "# walking in stairs would have both x acc and y acc higher, but walking flat would\n",
    "# have little change in y, but maybe more in z.\n",
    "# Result: I can see some groupings/clusters forming, but I cannot see which\n",
    "# classes are forming these clusters. Need to color code\n",
    "for acc in accs:\n",
    "    for acc2 in accs:\n",
    "        if acc == acc2: continue\n",
    "        ad.plot.scatter(x=acc, y=acc2)\n",
    "        plt.title(f\"{acc} vs {acc2}\")\n",
    "        plt.xlabel(f\"{acc}\")\n",
    "        plt.ylabel(f\"{acc2}\")\n",
    "        plt.show()"
   ]
  },
  {
   "cell_type": "code",
   "execution_count": null,
   "metadata": {
    "pycharm": {
     "name": "#%%\n"
    }
   },
   "outputs": [],
   "source": [
    "# TASK: Explore the relationship between all pairs of attributes\n",
    "# Compare class label, vs accelerations\n",
    "# Hypothesis: This will show me how they are clustered, the task which I want to do\n",
    "# Result:\n",
    "\n",
    "label_color = {\n",
    "    'Computer': 'grey',\n",
    "    'Moving': 'green',\n",
    "    'Standing': 'black',\n",
    "    'Walking': 'yellow',\n",
    "    'Stairs': 'cyan',\n",
    "    'Walking + talking': 'orange',\n",
    "    'Standing + talking': 'purple' ,\n",
    "}\n",
    "# observations: black, purple totally overlaps.\n",
    "# Red differs the most in all dimensions, generally lower values\n",
    "\n",
    "# add a color to each class (label)\n",
    "ad['color'] = ad['label'].map(label_color)\n",
    "\n",
    "\n",
    "\n",
    "for acc in accs:\n",
    "    for acc2 in accs:\n",
    "        if acc == acc2: continue\n",
    "        ad.plot.scatter(x=acc, y=acc2, c=ad['color'], alpha=0.4)\n",
    "        plt.title(f\"{acc} vs {acc2} by labels\")\n",
    "        plt.xlabel(f\"{acc}\")\n",
    "        plt.ylabel(f\"{acc2}\")\n",
    "        # TODO: add legend\n",
    "        plt.show()"
   ]
  },
  {
   "cell_type": "code",
   "execution_count": null,
   "metadata": {
    "pycharm": {
     "name": "#%%\n"
    }
   },
   "outputs": [],
   "source": [
    "# 3D plot\n",
    "fig = plt.figure()\n",
    "ax = plt.axes(projection='3d')\n",
    "ax.scatter(ad['x'], ad['y'], ad['z'], c=ad['color'], alpha=.2)\n"
   ]
  },
  {
   "cell_type": "code",
   "execution_count": null,
   "metadata": {
    "pycharm": {
     "name": "#%%\n"
    }
   },
   "outputs": [],
   "source": [
    "\n"
   ]
  }
 ],
 "metadata": {
  "kernelspec": {
   "display_name": "PyCharm (Assignment2)",
   "language": "python",
   "name": "pycharm-2b61c4af"
  },
  "language_info": {
   "codemirror_mode": {
    "name": "ipython",
    "version": 3
   },
   "file_extension": ".py",
   "mimetype": "text/x-python",
   "name": "python",
   "nbconvert_exporter": "python",
   "pygments_lexer": "ipython3",
   "version": "3.8.3"
  }
 },
 "nbformat": 4,
 "nbformat_minor": 1
}