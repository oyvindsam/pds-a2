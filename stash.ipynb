{
 "cells": [
  {
   "cell_type": "code",
   "execution_count": null,
   "metadata": {
    "collapsed": true
   },
   "outputs": [],
   "source": [
    "# Store cleaning code for later\n",
    "\n",
    "# check inferred types for each column: int64\n",
    "# for column in columns:\n",
    "#     print(ad[column].dtype)\n",
    "# Here we can see the provided 'sequential id' is basically useless.\n",
    "# Reason? It is provided in scientific format with not enough precision.\n",
    "# print(ad['id'].tail())\n",
    "# print(ad['id'][99997:100004])\n",
    "\n",
    "\n",
    "# for column in columns:\n",
    "#     print(ad[column].value_counts())\n",
    "\n",
    "# check if any data is missing- This counts all NaNs, should be 0\n",
    "nans = ad.isna().sum().sum()"
   ]
  }
 ],
 "metadata": {
  "kernelspec": {
   "display_name": "Python 3",
   "language": "python",
   "name": "python3"
  },
  "language_info": {
   "codemirror_mode": {
    "name": "ipython",
    "version": 2
   },
   "file_extension": ".py",
   "mimetype": "text/x-python",
   "name": "python",
   "nbconvert_exporter": "python",
   "pygments_lexer": "ipython2",
   "version": "2.7.6"
  }
 },
 "nbformat": 4,
 "nbformat_minor": 0
}