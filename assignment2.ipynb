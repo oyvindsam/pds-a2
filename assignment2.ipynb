{
 "cells": [
  {
   "cell_type": "code",
   "execution_count": null,
   "metadata": {},
   "outputs": [],
   "source": [
    "import glob\n",
    "import matplotlib.pyplot as plt\n",
    "\n",
    "import pandas as pd\n",
    "import numpy as np\n",
    "import matplotlib.patches as mpatches\n",
    "from pandas import DataFrame\n",
    "from pandas.plotting import scatter_matrix\n",
    "from sklearn.metrics import confusion_matrix, classification_report\n",
    "from sklearn.model_selection import train_test_split\n",
    "from sklearn.neighbors import KNeighborsClassifier\n",
    "from sklearn.tree import DecisionTreeClassifier\n"
   ]
  },
  {
   "cell_type": "code",
   "execution_count": null,
   "metadata": {
    "pycharm": {
     "name": "#%%\n"
    }
   },
   "outputs": [],
   "source": [
    "# PART 1: Retrieval\n",
    "LOAD_WHOLE_DATASET = True\n",
    "\n",
    "# See data/REAMD.md for longer names/details.\n",
    "columns = ['x', 'y', 'z', 'label']\n",
    "label_i = [1, 2, 3, 4, 5, 6, 7]\n",
    "person_i = [i for i in range(1, 16)]\n",
    "labels = ['Computer', 'Moving', 'Standing', 'Walking', 'Stairs',\n",
    "          'Walking + talking', 'Standing + talking']\n",
    "labels_short = ['Computer', 'Move', 'Stand', 'Walk', 'Stairs',\n",
    "          'Walk+talk', 'Stand+talk']\n",
    "# Map numeric label to user friendly names\n",
    "labels_map = {\n",
    "    1: 'Computer',\n",
    "    2: 'Moving',\n",
    "    3: 'Standing',\n",
    "    4: 'Walking',\n",
    "    5: 'Stairs',\n",
    "    6: 'Walking + talking',\n",
    "    7: 'Standing + talking'\n",
    "}\n",
    "\n",
    "accs = ['x', 'y', 'z']\n",
    "acc_pairs = [('x', 'y'), ('x', 'z'), ('y', 'z')]\n",
    "\n",
    "\n",
    "label_color = {\n",
    "    'Computer': 'red',\n",
    "    'Moving': 'green',\n",
    "    'Standing': 'black',\n",
    "    'Walking': 'yellow',\n",
    "    'Stairs': 'cyan',\n",
    "    'Walking + talking': 'orange',\n",
    "    'Standing + talking': 'purple' ,\n",
    "}\n",
    "\n",
    "\n",
    "ad = DataFrame()\n",
    "# find all csv files\n",
    "if LOAD_WHOLE_DATASET:\n",
    "    files = glob.glob('data/*.csv')\n",
    "else:\n",
    "    files = ['data/2.csv']\n",
    "\n",
    "# concatenate all 15 data files\n",
    "# usecols is used to skip reading the 'id' column, which has errors\n",
    "for file in files:\n",
    "    person_data = pd.read_csv(file, sep=',', header=None, names=columns,\n",
    "                 usecols=[1,2,3,4])\n",
    "    # Add a column person, which specifies which dataset a row is from\n",
    "    person_id = file.split('data/')[1].split('.csv')[0]\n",
    "    person_data['person'] = int(person_id)\n",
    "\n",
    "    ad = pd.concat([ad, person_data])\n"
   ]
  },
  {
   "cell_type": "code",
   "execution_count": null,
   "metadata": {
    "pycharm": {
     "name": "#%%\n"
    }
   },
   "outputs": [],
   "source": [
    "# Drop rows with not a valid label\n",
    "ad = ad.loc[(ad['label'] >= 1) & (ad['label'] <= 7), :]"
   ]
  },
  {
   "cell_type": "code",
   "execution_count": null,
   "metadata": {
    "pycharm": {
     "name": "#%%\n"
    }
   },
   "outputs": [],
   "source": [
    "# Add new columns, readable label column and color\n",
    "ad['label_readable'] = ad['label'].map(labels_map)\n",
    "\n",
    "# add a color to each class (label)\n",
    "ad['color'] = ad['label_readable'].map(label_color)\n"
   ]
  },
  {
   "cell_type": "code",
   "execution_count": null,
   "metadata": {
    "pycharm": {
     "name": "#%%\n"
    }
   },
   "outputs": [],
   "source": [
    "# check data\n",
    "print('\\nShape')\n",
    "print(ad.shape)\n",
    "# Check head and tail\n",
    "print('\\nHead')\n",
    "print(ad.head())\n",
    "print('\\nTail')\n",
    "print(ad.tail())\n",
    "# Check if any value is NaN, if this was the case those rows would need to be cleaned.\n",
    "print('\\nColumns with NaNs')\n",
    "print(ad.isna().any())"
   ]
  },
  {
   "cell_type": "code",
   "execution_count": null,
   "metadata": {
    "pycharm": {
     "name": "#%%\n"
    }
   },
   "outputs": [],
   "source": [
    "# Investigate data, show data type, max/min, label count.\n",
    "for column in columns:\n",
    "    print()\n",
    "    print(f\"Column: {column}, dtype: {ad[column].dtype}\")\n",
    "\n",
    "    if column == 'label':\n",
    "        print(f\"Label count:\\n{ad[column].value_counts()}\")\n",
    "    elif column in accs:\n",
    "        print(column, 'min, max:', ad[column].min(), ad[column].max())\n",
    "        print(column, 'mean, std:', ad[column].mean(), ad[column].std())\n",
    "\n",
    "        print('Sorted head:')\n",
    "        print(ad[column].sort_values().head(10))\n",
    "        print('Sorted tail:')\n",
    "        print(ad[column].sort_values().tail(10))\n",
    "\n",
    "# From the output above we can see the data is unbalanced, 'moving' has 928 data points,\n",
    "# while 'standing + walking' has 83748. When using knn, the feature with most\n",
    "# data points will be favoured.\n",
    "\n",
    "# We also see that y, z have data points which seem faulty. There are a few of\n",
    "# abnormally small and big values (e.g. 2 and 4095).\n",
    "\n",
    "# We can investigate the abnormal y and z values further:\n",
    "outs_y = ad.loc[(ad['y'] > 3800) | (ad['y'] < 200), :]\n",
    "outs_z = ad.loc[(ad['z'] > 3800) | (ad['z'] < 200), :]\n",
    "print('\\ny outliers:')\n",
    "print(outs_y.sort_values(by='y'))\n",
    "print('z outliers:')\n",
    "print(outs_z.sort_values(by='z'))\n",
    "# We see they often correlate, a small y follows a big z, and vice versa,\n",
    "# but not always. All are for 'Computer' class"
   ]
  },
  {
   "cell_type": "code",
   "execution_count": null,
   "metadata": {},
   "outputs": [],
   "source": [
    "# I will investigate further, and look at the distribution\n",
    "# of the outliers. \n",
    "outs_yh = ad.loc[(ad['y'] > 2900), 'y']\n",
    "outs_yl = ad.loc[(ad['y'] < 1750), 'y']\n",
    "outs_zh = ad.loc[(ad['z'] > 2500), 'z']\n",
    "outs_zl = ad.loc[(ad['z'] < 1500), 'z']\n",
    "\n",
    "\n",
    "# In the figure below we can see the frequency distribution \n",
    "# for y in the range above 2900. This shows the outliers mentioned above, \n",
    "# and clearly shows that they differ from the data points around it. \n",
    "# Similar graphs are made for low y-values, high and low z-values. \n",
    "outs_yh.plot.hist(bins=100)\n",
    "plt.title('y high outliers frequency')\n",
    "plt.xlabel('y high')\n",
    "#plt.savefig('pic/y_high_outlier')\n",
    "plt.show()\n",
    "\n",
    "\n",
    "outs_yl.plot.hist(bins=100)\n",
    "plt.title('y low outliers frequency')\n",
    "plt.xlabel('y low')\n",
    "plt.show()\n",
    "\n",
    "\n",
    "outs_zh.plot.hist(bins=100)\n",
    "plt.title('z high outliers frequency')\n",
    "plt.xlabel('z high')\n",
    "plt.show()\n",
    "\n",
    "\n",
    "outs_zl.plot.hist(bins=100)\n",
    "plt.title('z low outliers frequency')\n",
    "plt.xlabel('z low')\n",
    "plt.show()\n",
    "\n",
    "\n",
    "    "
   ]
  },
  {
   "cell_type": "code",
   "execution_count": null,
   "metadata": {
    "pycharm": {
     "name": "#%%\n"
    }
   },
   "outputs": [],
   "source": [
    "# PART 2: Data Exploration"
   ]
  },
  {
   "cell_type": "code",
   "execution_count": null,
   "metadata": {
    "pycharm": {
     "name": "#%%\n"
    }
   },
   "outputs": [],
   "source": [
    "# Generate a scatter matrix to get a quick overview\n",
    "scatter_matrix(ad, alpha=.2, figsize=(16,16), diagonal='kde')\n",
    "#plt.savefig('pic/scattermatrix.png')\n"
   ]
  },
  {
   "cell_type": "code",
   "execution_count": null,
   "metadata": {
    "pycharm": {
     "name": "#%%\n"
    }
   },
   "outputs": [],
   "source": [
    "# Explore acceleration data point distribution\n",
    "def explore_acc(feature='x'):\n",
    "    print('Exploring feature: ', feature)\n",
    "    feat = ad[feature]\n",
    "    print(f\"{feature} min: {ad[feature].min()}, max: {ad[feature].max()}\")\n",
    "    # show frequency distribution\n",
    "    print(feat.value_counts(bins=20, normalize=True, sort=False))\n",
    "    # plot distribution\n",
    "    print(feat.plot.hist(bins=100))\n",
    "    plt.xlabel(f\"{feature} acceleration\")\n",
    "    plt.ylabel('Frequency')\n",
    "\n",
    "    plt.title(f\"{feature} acceleration frequency distribution\")\n",
    "    plt.tight_layout()\n",
    "\n",
    "    plt.savefig(f\"pic/{feature}-histogram\")\n",
    "    plt.show()\n",
    "\n",
    "for acc in accs:\n",
    "    explore_acc(acc)"
   ]
  },
  {
   "cell_type": "code",
   "execution_count": null,
   "metadata": {
    "scrolled": false
   },
   "outputs": [],
   "source": [
    "# Explore class types and distribution \n",
    "fig, ax = plt.subplots()\n",
    "ad['label_readable'].value_counts().plot.bar()\n",
    "ax.set_xticklabels(labels_short)\n",
    "plt.title('Class frequency')\n",
    "plt.ylabel('Frequency')\n",
    "plt.tight_layout()\n",
    "plt.xticks(rotation=45)\n",
    "plt.savefig('pic/class-bar-chart')"
   ]
  },
  {
   "cell_type": "code",
   "execution_count": null,
   "metadata": {
    "pycharm": {
     "name": "#%%\n"
    },
    "scrolled": true
   },
   "outputs": [],
   "source": [
    "# Explore pair of attributes (columns)\n",
    "# plot class against each acceleration\n",
    "for acc in accs:\n",
    "    fig, ax = plt.subplots(figsize=(8,6))\n",
    "    ad.boxplot(column=acc, by='label_readable', ax=ax, grid=False)\n",
    "    ax.set_xticklabels(labels_short)\n",
    "    plt.xlabel('Activity')\n",
    "    plt.ylabel('Acceleration value')\n",
    "    plt.title(f\"Distribution of {acc} acceleration for each class of movement\")\n",
    "    plt.suptitle('')\n",
    "    #plt.savefig(f\"pic/{acc}-class-boxplot\")\n",
    "    fig.show()\n",
    "    #break\n"
   ]
  },
  {
   "cell_type": "code",
   "execution_count": null,
   "metadata": {
    "pycharm": {
     "name": "#%%\n"
    }
   },
   "outputs": [],
   "source": [
    "# Shows distribution of accelerations for each activity.\n",
    "for label in labels:\n",
    "    label_acc = ad.loc[ad['label_readable'] == label, accs]\n",
    "    fig, ax = plt.subplots()\n",
    "    label_acc.boxplot(grid=False)\n",
    "    plt.xlabel('Acceleration axis')\n",
    "    plt.ylabel('Acceleration value')\n",
    "    plt.title(f\"Distribution of {label} acceleration for each axis of acceleration\")\n",
    "    plt.suptitle('')\n",
    "    plt.show()"
   ]
  },
  {
   "cell_type": "code",
   "execution_count": null,
   "metadata": {
    "pycharm": {
     "name": "#%%\n"
    }
   },
   "outputs": [],
   "source": [
    "# Hypothesis: I expect to see some relationship between accelerations, eg.\n",
    "# walking in stairs would have both x acc and y acc higher, but walking flat would\n",
    "# have little change in y, but maybe more in z.\n",
    "# Result: I can see some groupings/clusters forming, but I cannot see which\n",
    "# classes are forming these clusters. Need to color code\n",
    "for acc in accs:\n",
    "    for acc2 in accs:\n",
    "        if acc == acc2: continue\n",
    "        ad.plot.scatter(x=acc, y=acc2)\n",
    "        plt.title(f\"Acceleration: {acc} vs {acc2}\")\n",
    "        plt.xlabel(f\"{acc}\")\n",
    "        plt.ylabel(f\"{acc2}\")\n",
    "        plt.show()"
   ]
  },
  {
   "cell_type": "code",
   "execution_count": null,
   "metadata": {
    "pycharm": {
     "name": "#%%\n"
    }
   },
   "outputs": [],
   "source": [
    "# TASK: Explore the relationship between all pairs of attributes\n",
    "# Compare class label, vs accelerations\n",
    "# Hypothesis: my hypothesis is that activities where the participants move will have the most variance.  \n",
    "# Result: This type of graph is not suited, it gives unexpected and most likely wrong result\n",
    "\n",
    "acc_pairs = [('x', 'y'), ('x', 'z'), ('y', 'z')]\n",
    "for acc1, acc2 in acc_pairs:\n",
    "    fig, ax = plt.subplots()\n",
    "    ax.scatter(x=ad[acc1], y=ad[acc2], c=ad['color'], alpha=0.4)\n",
    "    plt.title(f\"Acceleration: {acc1} vs {acc2} by activity\")\n",
    "    plt.xlabel(f\"{acc1}\")\n",
    "    plt.ylabel(f\"{acc2}\")\n",
    "    box = ax.get_position()\n",
    "    ax.set_position([box.x0, box.y0, box.width * 0.8, box.height])\n",
    "\n",
    "    #retrieve values from color dictionary and attribute it to corresponding labels\n",
    "    leg_el = [mpatches.Patch(facecolor = value, edgecolor = \"black\", label = key, alpha = 0.4) for key, value in label_color.items()]\n",
    "    \n",
    "    # Put a legend to the right of the current axis\n",
    "    ax.legend(handles = leg_el, loc='center left', bbox_to_anchor=(1, 0.5))\n",
    "    #plt.savefig(f\"pic/{acc1}-{acc2}-class-colour-scatter-(all: {LOAD_SINGLE_DATASET})\")\n",
    "    plt.show()"
   ]
  },
  {
   "cell_type": "code",
   "execution_count": null,
   "metadata": {},
   "outputs": [],
   "source": [
    "# Plot line chart for each person, for each activity, with all accelerations in one graph\n",
    "for p in range(1, 16):\n",
    "    for activity in labels:\n",
    "        fig, ax = plt.subplots()\n",
    "        plt.title(f\"Person: {p}, Activity: {activity}\")\n",
    "        d  = ad.loc[(ad['person'] == p) & (ad['label_readable'] == activity), accs].reset_index()\n",
    "        for acc in accs:\n",
    "            ds = d[acc]\n",
    "            ds.plot(label=acc)\n",
    "        plt.legend()\n",
    "        plt.ylim(0, 4100)\n",
    "        plt.xlabel('Sequential measurement nr.')\n",
    "        plt.ylabel('Acceleration')\n",
    "        plt.show()\n"
   ]
  },
  {
   "cell_type": "code",
   "execution_count": null,
   "metadata": {},
   "outputs": [],
   "source": [
    "# Plot line chart for each activity (combine all persons), with all accelerations in one graph\n",
    "for activity in labels:\n",
    "    fig, ax = plt.subplots()\n",
    "    plt.title(f\"Activity: {activity}\")\n",
    "    d  = ad.loc[ad['label_readable'] == activity, accs].reset_index()\n",
    "    for acc in accs:\n",
    "        ds = d[acc]\n",
    "        ds.plot(label=acc)\n",
    "    plt.legend()\n",
    "    plt.ylim(0, 4100)\n",
    "    plt.xlabel('Sequential measurement nr.')\n",
    "    plt.ylabel('Acceleration')\n",
    "    plt.show()\n"
   ]
  },
  {
   "cell_type": "code",
   "execution_count": null,
   "metadata": {},
   "outputs": [],
   "source": [
    "# Plot line chart for pair of accelerations, for each activity\n",
    "\n",
    "for activity in labels:\n",
    "    d  = ad.loc[ad['label_readable'] == activity, accs].reset_index()\n",
    "    for acc1, acc2 in acc_pairs:\n",
    "        ds = d[[acc1, acc2]].plot()\n",
    "        \n",
    "        plt.title(f\"{activity}, acceleration {acc1} vs. {acc2}\")\n",
    "        plt.legend()\n",
    "        plt.ylim(0, 4100)\n",
    "        plt.xlabel('Sequential measurement nr.')\n",
    "        plt.ylabel('Acceleration')\n",
    "        plt.tight_layout()\n",
    "        plt.savefig(f\"pic/{activity}-{acc1}-{acc2}\")\n",
    "        plt.show()\n",
    "        \n"
   ]
  },
  {
   "cell_type": "code",
   "execution_count": null,
   "metadata": {},
   "outputs": [],
   "source": [
    "# Plot line chart for pairs of 1 acceleration and 1 activity\n",
    "for activity in labels:\n",
    "    d  = ad.loc[ad['label_readable'] == activity, accs].reset_index()\n",
    "    for acc in accs:\n",
    "        d[acc].plot(label=acc)\n",
    "        plt.title(f\"Activity: {activity}, acceleration {acc}\")\n",
    "        plt.legend()\n",
    "        plt.ylim(0, 4100)\n",
    "        plt.xlabel('Sequential measurement nr.')\n",
    "        plt.ylabel('Acceleration')\n",
    "        plt.tight_layout()\n",
    "        plt.savefig(f'pic/{activity}-{acc}')\n",
    "        plt.show()"
   ]
  },
  {
   "cell_type": "code",
   "execution_count": null,
   "metadata": {},
   "outputs": [],
   "source": [
    "# 3D plot\n",
    "fig = plt.figure(figsize=(10,10))\n",
    "ax = plt.axes(projection='3d')\n",
    "ax.scatter(ad['x'], ad['y'], ad['z'], c=ad['color'], alpha=.2)\n",
    "plt.title(f\"Acceleration: x, y, z by class\")\n",
    "ax.set_xlabel(f\"x acceleration \")\n",
    "ax.set_ylabel(f\"y acceleration \")\n",
    "ax.set_zlabel('z acceleration ')\n",
    "leg_el = [mpatches.Patch(facecolor = value, edgecolor = \"black\", label = key, alpha = 0.4) for key, value in label_color.items()]\n",
    "# Put a legend to the right of the current axis\n",
    "ax.legend(handles = leg_el, loc='center left', bbox_to_anchor=(1, 0.5))\n",
    "\n",
    "plt.savefig(f\"3d-scatter\")\n",
    "plt.show()"
   ]
  },
  {
   "cell_type": "code",
   "execution_count": null,
   "metadata": {},
   "outputs": [],
   "source": [
    "\n"
   ]
  },
  {
   "cell_type": "code",
   "execution_count": null,
   "metadata": {},
   "outputs": [],
   "source": []
  },
  {
   "cell_type": "code",
   "execution_count": null,
   "metadata": {},
   "outputs": [],
   "source": [
    "\n"
   ]
  },
  {
   "cell_type": "code",
   "execution_count": null,
   "metadata": {
    "pycharm": {
     "name": "#%%\n"
    }
   },
   "outputs": [],
   "source": []
  },
  {
   "cell_type": "code",
   "execution_count": null,
   "metadata": {},
   "outputs": [],
   "source": [
    "# PART 3: MODELING\n",
    "# The goal of the modeling is to see if it is possible to classify an unknown\n",
    "# activity (one or a set of data points). This is classification, so possible\n",
    "# models are knn, decision tree."
   ]
  },
  {
   "cell_type": "code",
   "execution_count": 17,
   "metadata": {},
   "outputs": [
    {
     "name": "stdout",
     "output_type": "stream",
     "text": [
      "Computing for person 1\n",
      "Computing for person 2\n",
      "Computing for person 3\n",
      "Computing for person 4\n",
      "Computing for person 5\n",
      "Computing for person 6\n",
      "Computing for person 7\n",
      "Computing for person 8\n",
      "Computing for person 9\n",
      "Computing for person 10\n",
      "Computing for person 11\n",
      "Computing for person 12\n",
      "Computing for person 13\n",
      "Computing for person 14\n",
      "Computing for person 15\n"
     ]
    },
    {
     "data": {
      "text/plain": "       person  label      label_readable   color       x mean       y mean  \\\n0           1      1            Computer     red  1598.923077  2001.673077   \n1           1      1            Computer     red  1609.615385  1964.192308   \n2           1      1            Computer     red  1585.461538  2022.846154   \n3           1      1            Computer     red  1668.730769  2175.153846   \n4           1      1            Computer     red  1738.076923  2240.769231   \n...       ...    ...                 ...     ...          ...          ...   \n74012      15      7  Standing + talking  purple  2052.500000  2531.884615   \n74013      15      7  Standing + talking  purple  2059.038462  2539.615385   \n74014      15      7  Standing + talking  purple  2043.115385  2526.384615   \n74015      15      7  Standing + talking  purple  2043.884615  2529.846154   \n74016      15      7  Standing + talking  purple  2017.000000  2533.000000   \n\n            z mean       x std       y std       z std  x diff  y diff  z diff  \n0      2004.000000   39.374943  115.800491   71.632504     192     771     322  \n1      2046.307692   28.684598   61.166016   46.296237     133     349     206  \n2      2086.615385   50.308831   42.165097   52.471003     199     152     179  \n3      2045.769231   43.481083   86.539097   95.318963     171     345     412  \n4      1914.153846  115.771473   93.420044  200.639915     391     498    1068  \n...            ...         ...         ...         ...     ...     ...     ...  \n74012  1988.461538   51.246268   33.838826   34.081351     185     137     121  \n74013  2011.500000    7.507227   22.369760    9.749872      32     131      40  \n74014  2004.384615   19.290053   14.716187   11.289205      62      53      46  \n74015  1996.461538   15.074022   28.794016    9.157427      68     120      37  \n74016  1999.000000   11.313708   18.384776   11.313708      16      26      16  \n\n[74017 rows x 13 columns]",
      "text/html": "<div>\n<style scoped>\n    .dataframe tbody tr th:only-of-type {\n        vertical-align: middle;\n    }\n\n    .dataframe tbody tr th {\n        vertical-align: top;\n    }\n\n    .dataframe thead th {\n        text-align: right;\n    }\n</style>\n<table border=\"1\" class=\"dataframe\">\n  <thead>\n    <tr style=\"text-align: right;\">\n      <th></th>\n      <th>person</th>\n      <th>label</th>\n      <th>label_readable</th>\n      <th>color</th>\n      <th>x mean</th>\n      <th>y mean</th>\n      <th>z mean</th>\n      <th>x std</th>\n      <th>y std</th>\n      <th>z std</th>\n      <th>x diff</th>\n      <th>y diff</th>\n      <th>z diff</th>\n    </tr>\n  </thead>\n  <tbody>\n    <tr>\n      <th>0</th>\n      <td>1</td>\n      <td>1</td>\n      <td>Computer</td>\n      <td>red</td>\n      <td>1598.923077</td>\n      <td>2001.673077</td>\n      <td>2004.000000</td>\n      <td>39.374943</td>\n      <td>115.800491</td>\n      <td>71.632504</td>\n      <td>192</td>\n      <td>771</td>\n      <td>322</td>\n    </tr>\n    <tr>\n      <th>1</th>\n      <td>1</td>\n      <td>1</td>\n      <td>Computer</td>\n      <td>red</td>\n      <td>1609.615385</td>\n      <td>1964.192308</td>\n      <td>2046.307692</td>\n      <td>28.684598</td>\n      <td>61.166016</td>\n      <td>46.296237</td>\n      <td>133</td>\n      <td>349</td>\n      <td>206</td>\n    </tr>\n    <tr>\n      <th>2</th>\n      <td>1</td>\n      <td>1</td>\n      <td>Computer</td>\n      <td>red</td>\n      <td>1585.461538</td>\n      <td>2022.846154</td>\n      <td>2086.615385</td>\n      <td>50.308831</td>\n      <td>42.165097</td>\n      <td>52.471003</td>\n      <td>199</td>\n      <td>152</td>\n      <td>179</td>\n    </tr>\n    <tr>\n      <th>3</th>\n      <td>1</td>\n      <td>1</td>\n      <td>Computer</td>\n      <td>red</td>\n      <td>1668.730769</td>\n      <td>2175.153846</td>\n      <td>2045.769231</td>\n      <td>43.481083</td>\n      <td>86.539097</td>\n      <td>95.318963</td>\n      <td>171</td>\n      <td>345</td>\n      <td>412</td>\n    </tr>\n    <tr>\n      <th>4</th>\n      <td>1</td>\n      <td>1</td>\n      <td>Computer</td>\n      <td>red</td>\n      <td>1738.076923</td>\n      <td>2240.769231</td>\n      <td>1914.153846</td>\n      <td>115.771473</td>\n      <td>93.420044</td>\n      <td>200.639915</td>\n      <td>391</td>\n      <td>498</td>\n      <td>1068</td>\n    </tr>\n    <tr>\n      <th>...</th>\n      <td>...</td>\n      <td>...</td>\n      <td>...</td>\n      <td>...</td>\n      <td>...</td>\n      <td>...</td>\n      <td>...</td>\n      <td>...</td>\n      <td>...</td>\n      <td>...</td>\n      <td>...</td>\n      <td>...</td>\n      <td>...</td>\n    </tr>\n    <tr>\n      <th>74012</th>\n      <td>15</td>\n      <td>7</td>\n      <td>Standing + talking</td>\n      <td>purple</td>\n      <td>2052.500000</td>\n      <td>2531.884615</td>\n      <td>1988.461538</td>\n      <td>51.246268</td>\n      <td>33.838826</td>\n      <td>34.081351</td>\n      <td>185</td>\n      <td>137</td>\n      <td>121</td>\n    </tr>\n    <tr>\n      <th>74013</th>\n      <td>15</td>\n      <td>7</td>\n      <td>Standing + talking</td>\n      <td>purple</td>\n      <td>2059.038462</td>\n      <td>2539.615385</td>\n      <td>2011.500000</td>\n      <td>7.507227</td>\n      <td>22.369760</td>\n      <td>9.749872</td>\n      <td>32</td>\n      <td>131</td>\n      <td>40</td>\n    </tr>\n    <tr>\n      <th>74014</th>\n      <td>15</td>\n      <td>7</td>\n      <td>Standing + talking</td>\n      <td>purple</td>\n      <td>2043.115385</td>\n      <td>2526.384615</td>\n      <td>2004.384615</td>\n      <td>19.290053</td>\n      <td>14.716187</td>\n      <td>11.289205</td>\n      <td>62</td>\n      <td>53</td>\n      <td>46</td>\n    </tr>\n    <tr>\n      <th>74015</th>\n      <td>15</td>\n      <td>7</td>\n      <td>Standing + talking</td>\n      <td>purple</td>\n      <td>2043.884615</td>\n      <td>2529.846154</td>\n      <td>1996.461538</td>\n      <td>15.074022</td>\n      <td>28.794016</td>\n      <td>9.157427</td>\n      <td>68</td>\n      <td>120</td>\n      <td>37</td>\n    </tr>\n    <tr>\n      <th>74016</th>\n      <td>15</td>\n      <td>7</td>\n      <td>Standing + talking</td>\n      <td>purple</td>\n      <td>2017.000000</td>\n      <td>2533.000000</td>\n      <td>1999.000000</td>\n      <td>11.313708</td>\n      <td>18.384776</td>\n      <td>11.313708</td>\n      <td>16</td>\n      <td>26</td>\n      <td>16</td>\n    </tr>\n  </tbody>\n</table>\n<p>74017 rows × 13 columns</p>\n</div>"
     },
     "execution_count": 17,
     "metadata": {},
     "output_type": "execute_result"
    }
   ],
   "source": [
    "# Extract features for data modeling\n",
    "# takes dataframe for 1 person, windows it, and returns a new dataframe with new features\n",
    "# wsize defaults to 1 second (=52 Hz)\n",
    "# returns mean, std, max-min,\n",
    "def windowing(df, wsize=52):\n",
    "    person = df['person'][0] # get person id\n",
    "    df_list = []  # storing dicts in a list then creating dataframe in the end is much faster\n",
    "    \n",
    "    # iterate over all activities\n",
    "    for label in label_i:\n",
    "        # extract label activity\n",
    "        df_t = df.loc[df['label'] == label, :].reset_index()\n",
    "        label_readable, color = df_t['label_readable'][0], df_t['color'][0]\n",
    "        \n",
    "        slide = 0  # slide will slide over the time series, increasing wsize//2 each iteration\n",
    "        window = wsize\n",
    "        size = len(df_t.index)\n",
    "        while slide < size:\n",
    "            # extract window frame\n",
    "            rows = df_t.iloc[slide:window][accs]\n",
    "            if len(rows) < 2: break\n",
    "            df_list.append({\n",
    "                'person': person,\n",
    "                'label': label,\n",
    "                'label_readable': label_readable,\n",
    "                'color': color,\n",
    "                'x mean': rows['x'].mean(),\n",
    "                'y mean': rows['y'].mean(),\n",
    "                'z mean': rows['z'].mean(),\n",
    "                'x std': rows['x'].std(),\n",
    "                'y std': rows['y'].std(),\n",
    "                'z std': rows['z'].std(),\n",
    "                'x diff': rows['x'].max() - rows['x'].min(),\n",
    "                'y diff': rows['y'].max() - rows['y'].min(),\n",
    "                'z diff': rows['z'].max() - rows['z'].min(),\n",
    "                })\n",
    "            # move window\n",
    "            window = slide + wsize\n",
    "            slide += wsize//2\n",
    "\n",
    "\n",
    "    return pd.DataFrame(df_list)\n",
    "        \n",
    "ad_l = []\n",
    "for person in person_i:\n",
    "    print(f\"Computing for person {person}\")\n",
    "    ad_l.append(windowing(ad.loc[ad['person'] == person, :]))\n",
    "ad_n = pd.concat(ad_l, ignore_index=True)\n",
    "ad_n"
   ]
  },
  {
   "cell_type": "code",
   "execution_count": null,
   "metadata": {},
   "outputs": [],
   "source": [
    "# Inspect features extracted\n",
    "# Compare means in scatter plot\n",
    "acc_pairs = [('x mean', 'y mean'), ('x mean', 'z mean'), ('y mean', 'z mean')]\n",
    "for acc1, acc2 in acc_pairs:\n",
    "    fig, ax = plt.subplots()\n",
    "    ax.scatter(x=ad_n[acc1], y=ad_n[acc2], c=ad_n['color'], alpha=0.4)\n",
    "    plt.title(f\"Acceleration: {acc1} vs {acc2} by activity (windowed)\")\n",
    "    plt.xlabel(f\"{acc1}\")\n",
    "    plt.ylabel(f\"{acc2}\")\n",
    "    box = ax.get_position()\n",
    "    ax.set_position([box.x0, box.y0, box.width * 0.8, box.height])\n",
    "\n",
    "    #retrieve values from color dictionary and attribute it to corresponding labels\n",
    "    leg_el = [mpatches.Patch(facecolor = value, edgecolor = \"black\", label = key, alpha = 0.4) for key, value in label_color.items()]\n",
    "    \n",
    "    # Put a legend to the right of the current axis\n",
    "    ax.legend(handles = leg_el, loc='center left', bbox_to_anchor=(1, 0.5))\n",
    "    #plt.savefig(f\"{acc1}-{acc2}-class-colour-scatter-(all: {LOAD_SINGLE_DATASET})\")\n",
    "    plt.show()"
   ]
  },
  {
   "cell_type": "code",
   "execution_count": null,
   "metadata": {},
   "outputs": [],
   "source": [
    "# Inspect features extracted\n",
    "# Boxplot of means\n",
    "means = ['x mean', 'y mean', 'z mean']\n",
    "for mean in means:\n",
    "    fig, ax = plt.subplots(figsize=(8,6))\n",
    "    ad_n.boxplot(column=mean, by='label_readable', ax=ax, grid=False)\n",
    "    ax.set_xticklabels(labels_short)\n",
    "    plt.xlabel('Activity')\n",
    "    plt.ylabel('Acceleration mean value (windowed)')\n",
    "    plt.title(f\"Distribution of {mean} acceleration for each class of movement\")\n",
    "    plt.suptitle('')\n",
    "    #plt.savefig(f\"{mean}-class-boxplot\")\n",
    "    fig.show()\n",
    "    #break"
   ]
  },
  {
   "cell_type": "code",
   "execution_count": null,
   "metadata": {},
   "outputs": [],
   "source": [
    "# Inspect features extracted\n",
    "# 3D plot\n",
    "fig = plt.figure(figsize=(10,10))\n",
    "ax = plt.axes(projection='3d')\n",
    "ax.scatter(ad_n['x mean'], ad_n['y mean'], ad_n['z mean'], c=ad_n['color'], alpha=.2)\n",
    "plt.title(f\"Acceleration: x, y, z  mean by class (windowed)\")\n",
    "ax.set_xlabel(f\"x acceleration mean\")\n",
    "ax.set_ylabel(f\"y acceleration mean\")\n",
    "ax.set_zlabel('z acceleration mean')\n",
    "leg_el = [mpatches.Patch(facecolor = value, edgecolor = \"black\", label = key, alpha = 0.4) for key, value in label_color.items()]\n",
    "# Put a legend to the right of the current axis\n",
    "ax.legend(handles = leg_el, loc='center left', bbox_to_anchor=(1, 0.5))\n",
    "\n",
    "#plt.savefig(f\"3d-scatter-mean-windowed\")\n",
    "plt.show()\n"
   ]
  },
  {
   "cell_type": "code",
   "execution_count": 97,
   "outputs": [],
   "source": [
    "# Define X - feature rows, y - label rows\n",
    "X = ad_n.iloc[:, 4:]\n",
    "y = ad_n.loc[:, 'label']"
   ],
   "metadata": {
    "collapsed": false,
    "pycharm": {
     "name": "#%%\n"
    }
   }
  },
  {
   "cell_type": "code",
   "execution_count": null,
   "outputs": [],
   "source": [
    "# Feature selection with hill climbing\n",
    "from sklearn.utils import shuffle\n",
    "\n",
    "# pass in feature columns, target column, and a classifier\n",
    "def feature_hill_climbing(data, target, classifier):\n",
    "\n",
    "    data_columns = data.columns\n",
    "    num_features = len(data_columns)\n",
    "\n",
    "    #col_num = data.shape[1] # number of data columns\n",
    "    new_index = []\n",
    "    max_score = 0.0\n",
    "    feature_index_random = shuffle(data_columns, random_state=39)\n",
    "\n",
    "    clf = classifier\n",
    "\n",
    "    for feature_index in range(num_features):\n",
    "        new_index.append(feature_index_random[feature_index])\n",
    "        new_data = data.loc[:, new_index]\n",
    "        X_train, X_test, y_train, y_test = train_test_split(\n",
    "            new_data, target, test_size=0.4, random_state=2)\n",
    "\n",
    "        fit = clf.fit(X_train, y_train)\n",
    "        score = clf.score(X_test, y_test)\n",
    "        if score < max_score:\n",
    "            new_index.remove(feature_index_random[feature_index])\n",
    "            print('removed', feature_index_random[feature_index])\n",
    "        else:\n",
    "            max_score = score\n",
    "            print(f\"Score with {len(new_index)} selected features: {score}\")\n",
    "    print('Selected features:')\n",
    "    print(sorted(new_index))\n"
   ],
   "metadata": {
    "collapsed": false,
    "pycharm": {
     "name": "#%%\n"
    }
   }
  },
  {
   "cell_type": "code",
   "execution_count": 87,
   "metadata": {},
   "outputs": [
    {
     "name": "stdout",
     "output_type": "stream",
     "text": [
      "Score with 1 selected features: 0.4802242712871956\n",
      "Score with 2 selected features: 0.5106900395176817\n",
      "Score with 3 selected features: 0.6624784679298814\n",
      "Score with 4 selected features: 0.6628500016887898\n",
      "Score with 5 selected features: 0.6628837774850542\n",
      "Score with 6 selected features: 0.6661600297227007\n",
      "Score with 7 selected features: 0.6661600297227007\n",
      "Score with 8 selected features: 0.6667342182591954\n",
      "Score with 9 selected features: 0.6803458641537474\n",
      "Selected features:\n",
      "['x diff', 'x mean', 'x std', 'y diff', 'y mean', 'y std', 'z diff', 'z mean', 'z std']\n"
     ]
    }
   ],
   "source": [
    "knnc = KNeighborsClassifier(6, weights='distance', p=1)\n",
    "dtc = DecisionTreeClassifier(max_depth=5, min_samples_split=100)\n",
    "\n",
    "feature_hill_climbing(X, y, dtc)\n",
    "\n",
    "# knn: use all 9\n",
    "# decision tree: use\n",
    "# use all 9"
   ]
  },
  {
   "cell_type": "code",
   "execution_count": 109,
   "outputs": [],
   "source": [
    "# K-Folds cross validation\n",
    "from sklearn.model_selection import KFold\n",
    "def k_folds(data, target, classifier):\n",
    "    sum = 0\n",
    "    kf = KFold(n_splits=10, random_state=0)\n",
    "    for k, (train_index, test_index) in enumerate(kf.split(data)):\n",
    "        X_train, X_test = data.iloc[train_index], data.iloc[test_index]\n",
    "        y_train, y_test = target.iloc[train_index], target.iloc[test_index]\n",
    "\n",
    "        fit = classifier.fit(X_train, y_train)\n",
    "        score = clf.score(X_test, y_test)\n",
    "        sum += score\n",
    "        print(f\"[Fold {k}] score: {score}\")\n",
    "    print(f\"Average of {k} folds: {sum/(k+1)}\")"
   ],
   "metadata": {
    "collapsed": false,
    "pycharm": {
     "name": "#%%\n"
    }
   }
  },
  {
   "cell_type": "code",
   "execution_count": 110,
   "outputs": [
    {
     "name": "stderr",
     "output_type": "stream",
     "text": [
      "/home/samuelsen/.local/share/virtualenvs/Assignment2-QHtghdoQ/lib/python3.8/site-packages/sklearn/model_selection/_split.py:293: FutureWarning: Setting a random_state has no effect since shuffle is False. This will raise an error in 0.24. You should leave random_state to its default (None), or set shuffle=True.\n",
      "  warnings.warn(\n"
     ]
    },
    {
     "name": "stdout",
     "output_type": "stream",
     "text": [
      "[Fold 0] score: 0.6703593623345042\n",
      "[Fold 1] score: 0.5660632261550932\n",
      "[Fold 2] score: 0.6272629019184004\n",
      "[Fold 3] score: 0.7807349365036477\n",
      "[Fold 4] score: 0.7415563361253715\n",
      "[Fold 5] score: 0.735341799513645\n",
      "[Fold 6] score: 0.6752229127262902\n",
      "[Fold 7] score: 0.5973517092284827\n",
      "[Fold 8] score: 0.678692068639373\n",
      "[Fold 9] score: 0.6776111336305904\n",
      "Average of 9 folds: 0.6750196386775398\n"
     ]
    }
   ],
   "source": [
    "# Test folds\n",
    "knnc = KNeighborsClassifier(n_neighbors=4)\n",
    "dtc = DecisionTreeClassifier(max_depth=5, min_samples_split=100)\n",
    "k_folds(X, y, knnc)"
   ],
   "metadata": {
    "collapsed": false,
    "pycharm": {
     "name": "#%%\n"
    }
   }
  },
  {
   "cell_type": "code",
   "execution_count": 90,
   "outputs": [
    {
     "name": "stdout",
     "output_type": "stream",
     "text": [
      "              precision    recall  f1-score   support\n",
      "\n",
      "           1       0.91      0.93      0.92      5778\n",
      "           2       0.50      0.40      0.44       502\n",
      "           3       0.61      0.59      0.60      2094\n",
      "           4       0.81      0.89      0.85      3410\n",
      "           5       0.53      0.33      0.41       518\n",
      "           6       0.62      0.36      0.45       464\n",
      "           7       0.86      0.87      0.87      5739\n",
      "\n",
      "    accuracy                           0.82     18505\n",
      "   macro avg       0.69      0.62      0.65     18505\n",
      "weighted avg       0.81      0.82      0.82     18505\n",
      "\n"
     ]
    }
   ],
   "source": [
    "# KNN\n",
    "X_train, X_test, y_train, y_test = train_test_split(X, y, random_state=0)\n",
    "neighbours = 3\n",
    "clf = KNeighborsClassifier(n_neighbors=neighbours)\n",
    "fit = clf.fit(X_train, y_train)\n",
    "y_pred = fit.predict(X_test)\n",
    "confusion_matrix(y_test, y_pred)\n",
    "print(classification_report(y_test, y_pred))\n"
   ],
   "metadata": {
    "collapsed": false,
    "pycharm": {
     "name": "#%%\n"
    }
   }
  },
  {
   "cell_type": "code",
   "execution_count": 95,
   "outputs": [
    {
     "name": "stdout",
     "output_type": "stream",
     "text": [
      "              precision    recall  f1-score   support\n",
      "\n",
      "           1       0.73      0.81      0.77      5778\n",
      "           2       0.60      0.05      0.09       502\n",
      "           3       0.43      0.02      0.03      2094\n",
      "           4       0.76      0.87      0.81      3410\n",
      "           5       0.58      0.07      0.13       518\n",
      "           6       0.00      0.00      0.00       464\n",
      "           7       0.58      0.81      0.67      5739\n",
      "\n",
      "    accuracy                           0.67     18505\n",
      "   macro avg       0.52      0.37      0.36     18505\n",
      "weighted avg       0.63      0.67      0.61     18505\n",
      "\n"
     ]
    },
    {
     "name": "stderr",
     "output_type": "stream",
     "text": [
      "/home/samuelsen/.local/share/virtualenvs/Assignment2-QHtghdoQ/lib/python3.8/site-packages/sklearn/metrics/_classification.py:1221: UndefinedMetricWarning: Precision and F-score are ill-defined and being set to 0.0 in labels with no predicted samples. Use `zero_division` parameter to control this behavior.\n",
      "  _warn_prf(average, modifier, msg_start, len(result))\n"
     ]
    }
   ],
   "source": [
    "# Decision tree\n",
    "\n",
    "clf = DecisionTreeClassifier(\n",
    "    max_depth=5,\n",
    "    min_samples_split=100\n",
    ")\n",
    "fit = clf.fit(X_train, y_train)\n",
    "y_pred = fit.predict(X_test)\n",
    "confusion_matrix(y_test, y_pred)\n",
    "\n",
    "print(classification_report(y_test, y_pred))"
   ],
   "metadata": {
    "collapsed": false,
    "pycharm": {
     "name": "#%%\n"
    }
   }
  },
  {
   "cell_type": "code",
   "execution_count": 94,
   "outputs": [],
   "source": [
    "from sklearn import tree\n",
    "\n",
    "\n",
    "with open('activity.dot', 'w') as f:\n",
    "    f = tree.export_graphviz(clf, out_file=f, feature_names=X.columns, class_names=labels,\n",
    "                             filled=True, rounded=True, special_characters=True)\n",
    "\n",
    "\n",
    "\n"
   ],
   "metadata": {
    "collapsed": false,
    "pycharm": {
     "name": "#%%\n"
    }
   }
  },
  {
   "cell_type": "code",
   "execution_count": null,
   "outputs": [],
   "source": [
    "\n"
   ],
   "metadata": {
    "collapsed": false,
    "pycharm": {
     "name": "#%%\n"
    }
   }
  }
 ],
 "metadata": {
  "kernelspec": {
   "display_name": "Python 3",
   "language": "python",
   "name": "python3"
  },
  "language_info": {
   "codemirror_mode": {
    "name": "ipython",
    "version": 3
   },
   "file_extension": ".py",
   "mimetype": "text/x-python",
   "name": "python",
   "nbconvert_exporter": "python",
   "pygments_lexer": "ipython3",
   "version": "3.8.3"
  }
 },
 "nbformat": 4,
 "nbformat_minor": 1
}