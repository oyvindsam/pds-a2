{
 "cells": [
  {
   "cell_type": "code",
   "execution_count": 3,
   "outputs": [],
   "source": [
    "import pandas as pd"
   ],
   "metadata": {
    "collapsed": false,
    "pycharm": {
     "name": "#%%\n"
    }
   }
  },
  {
   "cell_type": "code",
   "execution_count": 27,
   "outputs": [
    {
     "name": "stdout",
     "output_type": "stream",
     "text": [
      "['id', 'x acc', 'y acc', 'z acc', 'label']\n"
     ]
    }
   ],
   "source": [
    "# See data/REAMD.md for longer names/details.\n",
    "columns = ['x acc', 'y acc', 'z acc', 'label']\n",
    "labels = ['Computer', 'Moving', 'Standing', 'Walking',\n",
    "          'Stairs', 'Walking + talking', 'Standing + talking']\n",
    "\n",
    "print(['id'] + columns)"
   ],
   "metadata": {
    "collapsed": false,
    "pycharm": {
     "name": "#%%\n"
    }
   }
  },
  {
   "cell_type": "code",
   "execution_count": 28,
   "outputs": [],
   "source": [
    "# usecols is used to skip reading the 'id' column, which has errors\n",
    "ad = pd.read_csv('data/1.csv', sep=',', header=None, names=columns,\n",
    "                 usecols=[1,2,3,4])"
   ],
   "metadata": {
    "collapsed": false,
    "pycharm": {
     "name": "#%%\n"
    }
   }
  },
  {
   "cell_type": "code",
   "execution_count": 33,
   "outputs": [
    {
     "name": "stdout",
     "output_type": "stream",
     "text": [
      "        x acc  y acc  z acc  label\n",
      "0        1502   2215   2153      1\n",
      "1        1667   2072   2047      1\n",
      "2        1611   1957   1906      1\n",
      "3        1601   1939   1831      1\n",
      "4        1643   1965   1879      1\n",
      "...       ...    ...    ...    ...\n",
      "162496   1927   2388   2074      7\n",
      "162497   1930   2383   2074      7\n",
      "162498   1929   2385   2076      7\n",
      "162499   1926   2385   2078      7\n",
      "162500   1922   2387   2078      0\n",
      "\n",
      "[162501 rows x 4 columns]\n",
      "1907    3411\n",
      "1911    2889\n",
      "1909    2856\n",
      "1905    2813\n",
      "1903    2781\n",
      "        ... \n",
      "2076       1\n",
      "1596       1\n",
      "2109       1\n",
      "2079       1\n",
      "2047       1\n",
      "Name: x acc, Length: 499, dtype: int64\n",
      "int64\n",
      "2383    10397\n",
      "2379     8365\n",
      "2385     8255\n",
      "2381     7902\n",
      "2387     7333\n",
      "        ...  \n",
      "2195        1\n",
      "1829        1\n",
      "1973        1\n",
      "1998        1\n",
      "2117        1\n",
      "Name: y acc, Length: 557, dtype: int64\n",
      "int64\n",
      "1991    2485\n",
      "1999    2204\n",
      "1995    2196\n",
      "1987    2072\n",
      "1990    2071\n",
      "        ... \n",
      "2361       1\n",
      "2328       1\n",
      "2358       1\n",
      "1895       1\n",
      "2259       1\n",
      "Name: z acc, Length: 485, dtype: int64\n",
      "int64\n",
      "7    83748\n",
      "1    33677\n",
      "4    26860\n",
      "3    11179\n",
      "5     3191\n",
      "6     2917\n",
      "2      928\n",
      "0        1\n",
      "Name: label, dtype: int64\n",
      "int64\n"
     ]
    }
   ],
   "source": [
    "print(ad)\n",
    "# check inferred types for each column: int64\n",
    "for column in columns:\n",
    "    print(ad[column].dtype)\n",
    "\n",
    "# Here we can see the provided 'sequential id' is basically useless.\n",
    "# Reason? It is provided in scientific format with not enough precision.\n",
    "#print(ad['id'].tail())\n",
    "#print(ad['id'][99997:100004])"
   ],
   "metadata": {
    "collapsed": false,
    "pycharm": {
     "name": "#%%\n"
    }
   }
  },
  {
   "cell_type": "code",
   "execution_count": 34,
   "outputs": [
    {
     "name": "stdout",
     "output_type": "stream",
     "text": [
      "1907    3411\n",
      "1911    2889\n",
      "1909    2856\n",
      "1905    2813\n",
      "1903    2781\n",
      "        ... \n",
      "2076       1\n",
      "1596       1\n",
      "2109       1\n",
      "2079       1\n",
      "2047       1\n",
      "Name: x acc, Length: 499, dtype: int64\n",
      "2383    10397\n",
      "2379     8365\n",
      "2385     8255\n",
      "2381     7902\n",
      "2387     7333\n",
      "        ...  \n",
      "2195        1\n",
      "1829        1\n",
      "1973        1\n",
      "1998        1\n",
      "2117        1\n",
      "Name: y acc, Length: 557, dtype: int64\n",
      "1991    2485\n",
      "1999    2204\n",
      "1995    2196\n",
      "1987    2072\n",
      "1990    2071\n",
      "        ... \n",
      "2361       1\n",
      "2328       1\n",
      "2358       1\n",
      "1895       1\n",
      "2259       1\n",
      "Name: z acc, Length: 485, dtype: int64\n",
      "7    83748\n",
      "1    33677\n",
      "4    26860\n",
      "3    11179\n",
      "5     3191\n",
      "6     2917\n",
      "2      928\n",
      "0        1\n",
      "Name: label, dtype: int64\n"
     ]
    }
   ],
   "source": [
    "for column in columns:\n",
    "    print(ad[column].value_counts())"
   ],
   "metadata": {
    "collapsed": false,
    "pycharm": {
     "name": "#%%\n"
    }
   }
  },
  {
   "cell_type": "code",
   "execution_count": null,
   "outputs": [],
   "source": [
    "\n"
   ],
   "metadata": {
    "collapsed": false,
    "pycharm": {
     "name": "#%%\n"
    }
   }
  }
 ],
 "metadata": {
  "kernelspec": {
   "name": "pycharm-2b61c4af",
   "language": "python",
   "display_name": "PyCharm (Assignment2)"
  },
  "language_info": {
   "codemirror_mode": {
    "name": "ipython",
    "version": 2
   },
   "file_extension": ".py",
   "mimetype": "text/x-python",
   "name": "python",
   "nbconvert_exporter": "python",
   "pygments_lexer": "ipython2",
   "version": "2.7.6"
  }
 },
 "nbformat": 4,
 "nbformat_minor": 0
}