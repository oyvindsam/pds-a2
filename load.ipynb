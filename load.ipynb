{
 "cells": [
  {
   "cell_type": "code",
   "execution_count": 1,
   "metadata": {
    "pycharm": {
     "name": "#%%\n"
    }
   },
   "outputs": [],
   "source": [
    "import glob\n",
    "import pandas as pd\n"
   ]
  },
  {
   "cell_type": "code",
   "execution_count": 12,
   "metadata": {
    "pycharm": {
     "name": "#%%\n"
    }
   },
   "outputs": [],
   "source": [
    "# Retrieve\n",
    "\n",
    "# See data/REAMD.md for longer names/details.\n",
    "from pandas import DataFrame\n",
    "columns = ['x', 'y', 'z', 'label']\n",
    "labels = ['Computer', 'Moving', 'Standing', 'Walking', 'Stairs',\n",
    "          'Walking + talking', 'Standing + talking']\n",
    "# Map numeric label to user friendly names\n",
    "labels_map = {\n",
    "    1: 'Computer',\n",
    "    2: 'Moving',\n",
    "    3: 'Standing',\n",
    "    4: 'Walking',\n",
    "    5: 'Stairs',\n",
    "    6: 'Walking + talking',\n",
    "    7: 'Standing + talking'\n",
    "}\n",
    "\n",
    "ad = DataFrame()\n",
    "# find all csv files\n",
    "files = glob.glob('data/*.csv')\n",
    "# use only 1 file:\n",
    "files = ['data/1.csv']\n",
    "# concatenate all 15 data files\n",
    "# usecols is used to skip reading the 'id' column, which has errors\n",
    "for file in files:\n",
    "    person_data = pd.read_csv(file, sep=',', header=None, names=columns,\n",
    "                 usecols=[1,2,3,4])\n",
    "    id = file.split('data/')[1].split('.csv')[0]\n",
    "    person_data['person'] = id\n",
    "    person_data = person_data.loc[(person_data['label'] >= 1) & (person_data['label'] <= 7), :]\n",
    "\n",
    "    ad = pd.concat([ad, person_data])"
   ]
  },
  {
   "cell_type": "code",
   "execution_count": 15,
   "outputs": [
    {
     "name": "stdout",
     "output_type": "stream",
     "text": [
      "Empty DataFrame\n",
      "Columns: [x, y, z, label, person]\n",
      "Index: []\n",
      "Empty DataFrame\n",
      "Columns: [x, y, z, label, person]\n",
      "Index: []\n",
      "Empty DataFrame\n",
      "Columns: [x, y, z, label, person]\n",
      "Index: []\n",
      "Empty DataFrame\n",
      "Columns: [x, y, z, label, person]\n",
      "Index: []\n"
     ]
    }
   ],
   "source": [
    "# drop row with not a valid label\n",
    "ad = ad.loc[(ad['label'] >= 1) & (ad['label'] <= 7), :]"
   ],
   "metadata": {
    "collapsed": false,
    "pycharm": {
     "name": "#%%\n"
    }
   }
  },
  {
   "cell_type": "code",
   "execution_count": null,
   "outputs": [],
   "source": [
    "#Clean\n",
    "for column in columns:\n",
    "    if column == 'label':\n",
    "        # drop row with not a valid label\n",
    "        ad = ad.loc[(ad['label'] >= 1) & (ad['label'] <= 7), :]\n",
    "\n",
    "    # check nans\n",
    "    print(ad.loc[ad[column].isna(), :])\n"
   ],
   "metadata": {
    "collapsed": false,
    "pycharm": {
     "name": "#%%\n"
    }
   }
  },
  {
   "cell_type": "code",
   "execution_count": null,
   "outputs": [],
   "source": [
    "\n"
   ],
   "metadata": {
    "collapsed": false,
    "pycharm": {
     "name": "#%%\n"
    }
   }
  }
 ],
 "metadata": {
  "kernelspec": {
   "display_name": "PyCharm (Assignment2)",
   "language": "python",
   "name": "pycharm-2b61c4af"
  },
  "language_info": {
   "codemirror_mode": {
    "name": "ipython",
    "version": 3
   },
   "file_extension": ".py",
   "mimetype": "text/x-python",
   "name": "python",
   "nbconvert_exporter": "python",
   "pygments_lexer": "ipython3",
   "version": "3.8.2"
  }
 },
 "nbformat": 4,
 "nbformat_minor": 1
}