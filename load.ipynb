{
 "cells": [
  {
   "cell_type": "code",
   "execution_count": 1,
   "metadata": {
    "pycharm": {
     "name": "#%%\n"
    }
   },
   "outputs": [],
   "source": [
    "import glob\n",
    "import pandas as pd\n"
   ]
  },
  {
   "cell_type": "code",
   "execution_count": 2,
   "metadata": {
    "pycharm": {
     "name": "#%%\n"
    }
   },
   "outputs": [],
   "source": [
    "# Retrieve\n",
    "\n",
    "# See data/REAMD.md for longer names/details.\n",
    "from pandas import DataFrame\n",
    "columns = ['x', 'y', 'z', 'label']\n",
    "labels = ['Computer', 'Moving', 'Standing', 'Walking', 'Stairs',\n",
    "          'Walking + talking', 'Standing + talking']\n",
    "# Map numeric label to user friendly names\n",
    "labels_map = {\n",
    "    1: 'Computer',\n",
    "    2: 'Moving',\n",
    "    3: 'Standing',\n",
    "    4: 'Walking',\n",
    "    5: 'Stairs',\n",
    "    6: 'Walking + talking',\n",
    "    7: 'Standing + talking'\n",
    "}\n",
    "\n",
    "ad = DataFrame()\n",
    "# find all csv files\n",
    "files = glob.glob('data/*.csv')\n",
    "\n",
    "# concatenate all 15 data files\n",
    "# usecols is used to skip reading the 'id' column, which has errors\n",
    "for file in files:\n",
    "    person_data = pd.read_csv(file, sep=',', header=None, names=columns,\n",
    "                 usecols=[1,2,3,4])\n",
    "    id = file.split('data/')[1].split('.csv')[0]\n",
    "    person_data['person'] = id\n",
    "    person_data = person_data.loc[(ad['label'] >= 1) & (ad['label'] <= 7), :]\n",
    "\n",
    "    ad = pd.concat([ad, person_data])"
   ]
  },
  {
   "cell_type": "code",
   "execution_count": 3,
   "outputs": [
    {
     "name": "stdout",
     "output_type": "stream",
     "text": [
      "           x     y     z  label person\n",
      "0       1955  2302  1766      1     14\n",
      "1       1954  2293  1770      1     14\n",
      "2       1959  2298  1780      1     14\n",
      "3       1954  2299  1774      1     14\n",
      "4       1952  2301  1772      1     14\n",
      "...      ...   ...   ...    ...    ...\n",
      "137996  1695  1844  2035      7      8\n",
      "137997  1700  1847  2034      7      8\n",
      "137998  1708  1849  2031      7      8\n",
      "137999  1709  1853  2026      7      8\n",
      "138000  1716  1855  2031      0      8\n",
      "\n",
      "[1926896 rows x 5 columns]\n"
     ]
    }
   ],
   "source": [],
   "metadata": {
    "collapsed": false,
    "pycharm": {
     "name": "#%%\n"
    }
   }
  },
  {
   "cell_type": "code",
   "execution_count": null,
   "outputs": [],
   "source": [
    "\n"
   ],
   "metadata": {
    "collapsed": false,
    "pycharm": {
     "name": "#%%\n"
    }
   }
  }
 ],
 "metadata": {
  "kernelspec": {
   "display_name": "PyCharm (Assignment2)",
   "language": "python",
   "name": "pycharm-2b61c4af"
  },
  "language_info": {
   "codemirror_mode": {
    "name": "ipython",
    "version": 3
   },
   "file_extension": ".py",
   "mimetype": "text/x-python",
   "name": "python",
   "nbconvert_exporter": "python",
   "pygments_lexer": "ipython3",
   "version": "3.8.2"
  }
 },
 "nbformat": 4,
 "nbformat_minor": 1
}