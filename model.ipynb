{
 "cells": [
  {
   "cell_type": "code",
   "execution_count": 2,
   "metadata": {
    "collapsed": true
   },
   "outputs": [],
   "source": [
    "import pandas as pd\n",
    "from sklearn.metrics import confusion_matrix, classification_report\n",
    "from sklearn.model_selection import train_test_split\n",
    "from sklearn.neighbors import KNeighborsClassifier\n",
    "from sklearn.tree import DecisionTreeClassifier"
   ]
  },
  {
   "cell_type": "code",
   "execution_count": 3,
   "metadata": {
    "pycharm": {
     "name": "#%%\n"
    }
   },
   "outputs": [
    {
     "name": "stdout",
     "output_type": "stream",
     "text": [
      "x min max: 1455 2356\n",
      "y min max: 1697 2713\n",
      "z min max: 1644 2739\n",
      "7    83748\n",
      "1    33677\n",
      "4    26860\n",
      "3    11179\n",
      "5     3191\n",
      "6     2917\n",
      "2      928\n",
      "Name: label, dtype: int64\n"
     ]
    }
   ],
   "source": [
    "# See data/REAMD.md for longer names/details.\n",
    "columns = ['x', 'y', 'z', 'label']\n",
    "labels = ['Computer', 'Moving', 'Standing', 'Walking', 'Stairs',\n",
    "          'Walking + talking', 'Standing + talking']\n",
    "labels_map = {\n",
    "    1: 'Computer',\n",
    "    2: 'Moving',\n",
    "    3: 'Standing',\n",
    "    4: 'Walking',\n",
    "    5: 'Stairs',\n",
    "    6: 'Walking + talking',\n",
    "    7: 'Standing + talking'\n",
    "}\n",
    "\n",
    "# usecols is used to skip reading the 'id' column, which has errors\n",
    "ad = pd.read_csv('data/1.csv', sep=',', header=None, names=columns,\n",
    "                 usecols=[1,2,3,4])\n",
    "\n",
    "# TODO: put some reasonable values here\n",
    "#x_min_max = (1455, 2356)\n",
    "#y_min_max = (1697, 2713)\n",
    "#z_min_max = (1644, 2739)\n",
    "\n",
    "for column in columns:\n",
    "    if column == 'label':\n",
    "        # drop row with not a valid label\n",
    "        ad = ad.loc[(1 <= ad['label']) & (ad['label'] <= 7), :]\n",
    "        print(ad[column].value_counts())\n",
    "    if column == 'x':\n",
    "        # TODO detect anomalies\n",
    "        #print(ad[column].sort_values().tail(40))\n",
    "        print(column, 'min max:', ad[column].min(), ad[column].max())\n",
    "    if column == 'y':\n",
    "        print(column, 'min max:', ad[column].min(), ad[column].max())\n",
    "    if column == 'z':\n",
    "        print(column, 'min max:', ad[column].min(), ad[column].max())\n",
    "\n",
    "ad['label'] = ad['label'].map(labels_map)\n",
    "\n",
    "accs = ['x', 'y', 'z']\n",
    "\n",
    "label_color = {\n",
    "    'Computer': 'red',\n",
    "    'Moving': 'green',\n",
    "    'Standing': 'blue',\n",
    "    'Walking': 'yellow',\n",
    "    'Stairs': 'cyan',\n",
    "    'Walking + talking': 'orange',\n",
    "    'Standing + talking': 'purple' ,\n",
    "}\n",
    "\n",
    "# add a color to each class (label)\n",
    "ad['color'] = ad['label'].map(label_color)"
   ]
  },
  {
   "cell_type": "code",
   "execution_count": null,
   "metadata": {
    "pycharm": {
     "name": "#%%\n"
    }
   },
   "outputs": [],
   "source": [
    "# The goal of the modeling is to see if it is possible to classify an unknown\n",
    "# activity (one or a set of data points). This is classification, so possible\n",
    "# models are knn, decision tree.\n"
   ]
  },
  {
   "cell_type": "code",
   "execution_count": 4,
   "outputs": [],
   "source": [
    "X = ad.loc[:, ['x', 'y', 'z']]\n",
    "y = ad.loc[:, 'label']\n",
    "X_train, X_test, y_train, y_test = train_test_split(X, y, random_state=0)"
   ],
   "metadata": {
    "collapsed": false,
    "pycharm": {
     "name": "#%%\n"
    }
   }
  },
  {
   "cell_type": "code",
   "execution_count": null,
   "outputs": [],
   "source": [
    "# KNN\n",
    "neighbours = 3\n",
    "clf = KNeighborsClassifier(n_neighbors=neighbours)\n",
    "fit = clf.fit(X_train, y_train)\n",
    "y_pred = fit.predict(X_test)\n",
    "confusion_matrix(y_test, y_pred)"
   ],
   "metadata": {
    "collapsed": false,
    "pycharm": {
     "name": "#%%\n"
    }
   }
  },
  {
   "cell_type": "code",
   "execution_count": 16,
   "outputs": [
    {
     "name": "stderr",
     "output_type": "stream",
     "text": [
      "/home/samuelsen/.local/share/virtualenvs/Assignment2-QHtghdoQ/lib/python3.8/site-packages/sklearn/metrics/_classification.py:1221: UndefinedMetricWarning: Precision and F-score are ill-defined and being set to 0.0 in labels with no predicted samples. Use `zero_division` parameter to control this behavior.\n",
      "  _warn_prf(average, modifier, msg_start, len(result))\n"
     ]
    },
    {
     "name": "stdout",
     "output_type": "stream",
     "text": [
      "                    precision    recall  f1-score   support\n",
      "\n",
      "          Computer       0.95      0.96      0.96      8325\n",
      "            Moving       0.00      0.00      0.00       252\n",
      "            Stairs       0.60      0.22      0.33       794\n",
      "          Standing       0.49      0.22      0.31      2777\n",
      "Standing + talking       0.85      0.95      0.89     21109\n",
      "           Walking       0.75      0.80      0.77      6638\n",
      " Walking + talking       0.30      0.01      0.02       730\n",
      "\n",
      "          accuracy                           0.84     40625\n",
      "         macro avg       0.56      0.45      0.47     40625\n",
      "      weighted avg       0.81      0.84      0.82     40625\n",
      "\n"
     ]
    }
   ],
   "source": [
    "# Decision tree\n",
    "\n",
    "clf = DecisionTreeClassifier(\n",
    "    max_depth=7,\n",
    "    min_samples_split=10\n",
    "\n",
    ")\n",
    "fit = clf.fit(X_train, y_train)\n",
    "y_pred = fit.predict(X_test)\n",
    "confusion_matrix(y_test, y_pred)\n",
    "\n",
    "print(classification_report(y_test, y_pred))\n"
   ],
   "metadata": {
    "collapsed": false,
    "pycharm": {
     "name": "#%%\n"
    }
   }
  },
  {
   "cell_type": "code",
   "execution_count": 8,
   "outputs": [],
   "source": [
    "from sklearn import tree\n",
    "\n",
    "\n",
    "with open('activity.dot', 'w') as f:\n",
    "    f = tree.export_graphviz(clf, out_file=f, feature_names=['x', 'y', 'z'], class_names=labels,\n",
    "                             filled=True, rounded=True, special_characters=True)\n"
   ],
   "metadata": {
    "collapsed": false,
    "pycharm": {
     "name": "#%%\n"
    }
   }
  },
  {
   "cell_type": "code",
   "execution_count": 7,
   "outputs": [
    {
     "data": {
      "text/plain": "[Text(167.4, 199.32, 'X[0] <= 1947.5\\ngini = 0.66\\nsamples = 121875\\nvalue = [25352, 676, 2397, 8402, 62639, 20222, 2187]'),\n Text(83.7, 163.07999999999998, 'X[1] <= 2359.5\\ngini = 0.524\\nsamples = 93830\\nvalue = [1053, 644, 1793, 8270, 61352, 18708, 2010]'),\n Text(41.85, 126.83999999999999, 'X[2] <= 2078.5\\ngini = 0.451\\nsamples = 12465\\nvalue = [342, 210, 887, 348, 761, 9106, 811]'),\n Text(20.925, 90.6, 'X[1] <= 2347.5\\ngini = 0.368\\nsamples = 10130\\nvalue = [117, 117, 333, 275, 572, 7985, 731]'),\n Text(10.4625, 54.359999999999985, 'X[0] <= 1726.5\\ngini = 0.309\\nsamples = 8742\\nvalue = [101, 92, 286, 200, 199, 7226, 638]'),\n Text(5.23125, 18.119999999999976, 'gini = 0.0\\nsamples = 69\\nvalue = [69, 0, 0, 0, 0, 0, 0]'),\n Text(15.693750000000001, 18.119999999999976, 'gini = 0.298\\nsamples = 8673\\nvalue = [32, 92, 286, 200, 199, 7226, 638]'),\n Text(31.387500000000003, 54.359999999999985, 'X[1] <= 2354.5\\ngini = 0.62\\nsamples = 1388\\nvalue = [16, 25, 47, 75, 373, 759, 93]'),\n Text(26.15625, 18.119999999999976, 'gini = 0.573\\nsamples = 747\\nvalue = [9, 17, 31, 29, 147, 460, 54]'),\n Text(36.61875, 18.119999999999976, 'gini = 0.648\\nsamples = 641\\nvalue = [7, 8, 16, 46, 226, 299, 39]'),\n Text(62.775000000000006, 90.6, 'X[0] <= 1889.5\\ngini = 0.694\\nsamples = 2335\\nvalue = [225, 93, 554, 73, 189, 1121, 80]'),\n Text(52.3125, 54.359999999999985, 'X[2] <= 2132.5\\ngini = 0.618\\nsamples = 1127\\nvalue = [141, 47, 143, 30, 65, 660, 41]'),\n Text(47.081250000000004, 18.119999999999976, 'gini = 0.521\\nsamples = 824\\nvalue = [56, 30, 75, 19, 53, 558, 33]'),\n Text(57.54375, 18.119999999999976, 'gini = 0.751\\nsamples = 303\\nvalue = [85, 17, 68, 11, 12, 102, 8]'),\n Text(73.2375, 54.359999999999985, 'X[1] <= 2338.5\\ngini = 0.719\\nsamples = 1208\\nvalue = [84, 46, 411, 43, 124, 461, 39]'),\n Text(68.00625000000001, 18.119999999999976, 'gini = 0.633\\nsamples = 734\\nvalue = [17, 9, 335, 31, 31, 287, 24]'),\n Text(78.46875, 18.119999999999976, 'gini = 0.773\\nsamples = 474\\nvalue = [67, 37, 76, 12, 93, 174, 15]'),\n Text(125.55000000000001, 126.83999999999999, 'X[1] <= 2407.5\\ngini = 0.422\\nsamples = 81365\\nvalue = [711, 434, 906, 7922, 60591, 9602, 1199]'),\n Text(104.625, 90.6, 'X[2] <= 2016.5\\ngini = 0.315\\nsamples = 73148\\nvalue = [673, 360, 434, 7685, 59960, 3418, 618]'),\n Text(94.16250000000001, 54.359999999999985, 'X[0] <= 1896.5\\ngini = 0.202\\nsamples = 52062\\nvalue = [8, 18, 210, 4690, 46254, 483, 399]'),\n Text(88.93125, 18.119999999999976, 'gini = 0.313\\nsamples = 24807\\nvalue = [2, 10, 44, 3887, 20192, 337, 335]'),\n Text(99.39375, 18.119999999999976, 'gini = 0.085\\nsamples = 27255\\nvalue = [6, 8, 166, 803, 26062, 146, 64]'),\n Text(115.0875, 54.359999999999985, 'X[2] <= 2046.5\\ngini = 0.536\\nsamples = 21086\\nvalue = [665, 342, 224, 2995, 13706, 2935, 219]'),\n Text(109.85625, 18.119999999999976, 'gini = 0.62\\nsamples = 7901\\nvalue = [37, 131, 48, 2628, 3969, 1018, 70]'),\n Text(120.31875000000001, 18.119999999999976, 'gini = 0.43\\nsamples = 13185\\nvalue = [628, 211, 176, 367, 9737, 1917, 149]'),\n Text(146.475, 90.6, 'X[1] <= 2429.5\\ngini = 0.418\\nsamples = 8217\\nvalue = [38, 74, 472, 237, 631, 6184, 581]'),\n Text(136.01250000000002, 54.359999999999985, 'X[0] <= 1880.5\\ngini = 0.594\\nsamples = 1878\\nvalue = [25, 19, 74, 88, 494, 1078, 100]'),\n Text(130.78125, 18.119999999999976, 'gini = 0.397\\nsamples = 886\\nvalue = [8, 9, 24, 19, 92, 679, 55]'),\n Text(141.24375, 18.119999999999976, 'gini = 0.664\\nsamples = 992\\nvalue = [17, 10, 50, 69, 402, 399, 45]'),\n Text(156.9375, 54.359999999999985, 'X[2] <= 2139.5\\ngini = 0.34\\nsamples = 6339\\nvalue = [13, 55, 398, 149, 137, 5106, 481]'),\n Text(151.70625, 18.119999999999976, 'gini = 0.293\\nsamples = 5834\\nvalue = [7, 48, 185, 133, 129, 4877, 455]'),\n Text(162.16875000000002, 18.119999999999976, 'gini = 0.612\\nsamples = 505\\nvalue = [6, 7, 213, 16, 8, 229, 26]'),\n Text(251.10000000000002, 163.07999999999998, 'X[2] <= 2086.5\\ngini = 0.244\\nsamples = 28045\\nvalue = [24299, 32, 604, 132, 1287, 1514, 177]'),\n Text(209.25, 126.83999999999999, 'X[1] <= 2346.5\\ngini = 0.714\\nsamples = 1772\\nvalue = [252, 19, 205, 92, 811, 352, 41]'),\n Text(188.32500000000002, 90.6, 'X[0] <= 2028.5\\ngini = 0.73\\nsamples = 315\\nvalue = [39, 2, 92, 9, 34, 124, 15]'),\n Text(177.8625, 54.359999999999985, 'X[2] <= 2052.5\\ngini = 0.682\\nsamples = 281\\nvalue = [7, 2, 92, 9, 34, 123, 14]'),\n Text(172.63125, 18.119999999999976, 'gini = 0.587\\nsamples = 144\\nvalue = [6, 1, 21, 1, 26, 86, 3]'),\n Text(183.09375, 18.119999999999976, 'gini = 0.645\\nsamples = 137\\nvalue = [1, 1, 71, 8, 8, 37, 11]'),\n Text(198.7875, 54.359999999999985, 'X[2] <= 2035.0\\ngini = 0.112\\nsamples = 34\\nvalue = [32, 0, 0, 0, 0, 1, 1]'),\n Text(193.55625, 18.119999999999976, 'gini = 0.0\\nsamples = 30\\nvalue = [30, 0, 0, 0, 0, 0, 0]'),\n Text(204.01875, 18.119999999999976, 'gini = 0.625\\nsamples = 4\\nvalue = [2, 0, 0, 0, 0, 1, 1]'),\n Text(230.175, 90.6, 'X[1] <= 2425.5\\ngini = 0.66\\nsamples = 1457\\nvalue = [213, 17, 113, 83, 777, 228, 26]'),\n Text(219.7125, 54.359999999999985, 'X[2] <= 2040.5\\ngini = 0.623\\nsamples = 1301\\nvalue = [200, 16, 83, 78, 749, 154, 21]'),\n Text(214.48125000000002, 18.119999999999976, 'gini = 0.434\\nsamples = 613\\nvalue = [29, 2, 36, 32, 455, 50, 9]'),\n Text(224.94375, 18.119999999999976, 'gini = 0.723\\nsamples = 688\\nvalue = [171, 14, 47, 46, 294, 104, 12]'),\n Text(240.63750000000002, 54.359999999999985, 'X[2] <= 2059.0\\ngini = 0.697\\nsamples = 156\\nvalue = [13, 1, 30, 5, 28, 74, 5]'),\n Text(235.40625, 18.119999999999976, 'gini = 0.606\\nsamples = 110\\nvalue = [8, 1, 11, 5, 18, 65, 2]'),\n Text(245.86875, 18.119999999999976, 'gini = 0.728\\nsamples = 46\\nvalue = [5, 0, 19, 0, 10, 9, 3]'),\n Text(292.95, 126.83999999999999, 'X[1] <= 2354.5\\ngini = 0.16\\nsamples = 26273\\nvalue = [24047, 13, 399, 40, 476, 1162, 136]'),\n Text(272.02500000000003, 90.6, 'X[2] <= 2194.5\\ngini = 0.686\\nsamples = 993\\nvalue = [149, 7, 231, 15, 49, 477, 65]'),\n Text(261.5625, 54.359999999999985, 'X[1] <= 2347.5\\ngini = 0.639\\nsamples = 841\\nvalue = [110, 6, 152, 13, 37, 464, 59]'),\n Text(256.33125, 18.119999999999976, 'gini = 0.598\\nsamples = 639\\nvalue = [40, 4, 141, 10, 24, 374, 46]'),\n Text(266.79375, 18.119999999999976, 'gini = 0.67\\nsamples = 202\\nvalue = [70, 2, 11, 3, 13, 90, 13]'),\n Text(282.4875, 54.359999999999985, 'X[1] <= 2335.5\\ngini = 0.649\\nsamples = 152\\nvalue = [39, 1, 79, 2, 12, 13, 6]'),\n Text(277.25625, 18.119999999999976, 'gini = 0.508\\nsamples = 104\\nvalue = [22, 0, 69, 1, 0, 8, 4]'),\n Text(287.71875, 18.119999999999976, 'gini = 0.755\\nsamples = 48\\nvalue = [17, 1, 10, 1, 12, 5, 2]'),\n Text(313.875, 90.6, 'X[1] <= 2390.5\\ngini = 0.105\\nsamples = 25280\\nvalue = [23898, 6, 168, 25, 427, 685, 71]'),\n Text(303.4125, 54.359999999999985, 'X[0] <= 1995.5\\ngini = 0.072\\nsamples = 24749\\nvalue = [23832, 3, 48, 13, 317, 496, 40]'),\n Text(298.18125000000003, 18.119999999999976, 'gini = 0.054\\nsamples = 24420\\nvalue = [23745, 2, 39, 10, 292, 311, 21]'),\n Text(308.64375, 18.119999999999976, 'gini = 0.604\\nsamples = 329\\nvalue = [87, 1, 9, 3, 25, 185, 19]'),\n Text(324.33750000000003, 54.359999999999985, 'X[1] <= 2453.5\\ngini = 0.76\\nsamples = 531\\nvalue = [66, 3, 120, 12, 110, 189, 31]'),\n Text(319.10625, 18.119999999999976, 'gini = 0.715\\nsamples = 408\\nvalue = [64, 3, 28, 9, 108, 174, 22]'),\n Text(329.56875, 18.119999999999976, 'gini = 0.419\\nsamples = 123\\nvalue = [2, 0, 92, 3, 2, 15, 9]')]"
     },
     "execution_count": 7,
     "metadata": {},
     "output_type": "execute_result"
    },
    {
     "data": {
      "text/plain": "<Figure size 432x288 with 1 Axes>",
      "image/png": "[encoded data removed]"
     },
     "metadata": {
      "needs_background": "light"
     },
     "output_type": "display_data"
    }
   ],
   "source": [],
   "metadata": {
    "collapsed": false,
    "pycharm": {
     "name": "#%%\n"
    }
   }
  },
  {
   "cell_type": "code",
   "execution_count": null,
   "outputs": [],
   "source": [
    "\n"
   ],
   "metadata": {
    "collapsed": false,
    "pycharm": {
     "name": "#%%\n"
    }
   }
  }
 ],
 "metadata": {
  "kernelspec": {
   "display_name": "Python 3",
   "language": "python",
   "name": "python3"
  },
  "language_info": {
   "codemirror_mode": {
    "name": "ipython",
    "version": 3
   },
   "file_extension": ".py",
   "mimetype": "text/x-python",
   "name": "python",
   "nbconvert_exporter": "python",
   "pygments_lexer": "ipython3",
   "version": "3.8.3"
  }
 },
 "nbformat": 4,
 "nbformat_minor": 1
}