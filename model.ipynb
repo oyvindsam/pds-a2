{
 "cells": [
  {
   "cell_type": "code",
   "execution_count": 20,
   "metadata": {
    "collapsed": true
   },
   "outputs": [],
   "source": [
    "import pandas as pd\n",
    "from sklearn.metrics import confusion_matrix\n",
    "from sklearn.model_selection import train_test_split\n",
    "from sklearn.neighbors import KNeighborsClassifier"
   ]
  },
  {
   "cell_type": "code",
   "execution_count": 11,
   "metadata": {
    "pycharm": {
     "name": "#%%\n"
    }
   },
   "outputs": [
    {
     "name": "stdout",
     "output_type": "stream",
     "text": [
      "x min max: 1455 2356\n",
      "y min max: 1697 2713\n",
      "z min max: 1644 2739\n",
      "7    83748\n",
      "1    33677\n",
      "4    26860\n",
      "3    11179\n",
      "5     3191\n",
      "6     2917\n",
      "2      928\n",
      "Name: label, dtype: int64\n"
     ]
    }
   ],
   "source": [
    "# See data/REAMD.md for longer names/details.\n",
    "columns = ['x', 'y', 'z', 'label']\n",
    "labels = ['Computer', 'Moving', 'Standing', 'Walking', 'Stairs',\n",
    "          'Walking + talking', 'Standing + talking']\n",
    "labels_map = {\n",
    "    1: 'Computer',\n",
    "    2: 'Moving',\n",
    "    3: 'Standing',\n",
    "    4: 'Walking',\n",
    "    5: 'Stairs',\n",
    "    6: 'Walking + talking',\n",
    "    7: 'Standing + talking'\n",
    "}\n",
    "\n",
    "# usecols is used to skip reading the 'id' column, which has errors\n",
    "ad = pd.read_csv('data/1.csv', sep=',', header=None, names=columns,\n",
    "                 usecols=[1,2,3,4])\n",
    "\n",
    "# TODO: put some reasonable values here\n",
    "#x_min_max = (1455, 2356)\n",
    "#y_min_max = (1697, 2713)\n",
    "#z_min_max = (1644, 2739)\n",
    "\n",
    "for column in columns:\n",
    "    if column == 'label':\n",
    "        # drop row with not a valid label\n",
    "        ad = ad.loc[(1 <= ad['label']) & (ad['label'] <= 7), :]\n",
    "        print(ad[column].value_counts())\n",
    "    if column == 'x':\n",
    "        # TODO detect anomalies\n",
    "        #print(ad[column].sort_values().tail(40))\n",
    "        print(column, 'min max:', ad[column].min(), ad[column].max())\n",
    "    if column == 'y':\n",
    "        print(column, 'min max:', ad[column].min(), ad[column].max())\n",
    "    if column == 'z':\n",
    "        print(column, 'min max:', ad[column].min(), ad[column].max())\n",
    "\n",
    "ad['label'] = ad['label'].map(labels_map)\n",
    "\n",
    "accs = ['x', 'y', 'z']\n",
    "\n",
    "label_color = {\n",
    "    'Computer': 'red',\n",
    "    'Moving': 'green',\n",
    "    'Standing': 'blue',\n",
    "    'Walking': 'yellow',\n",
    "    'Stairs': 'cyan',\n",
    "    'Walking + talking': 'orange',\n",
    "    'Standing + talking': 'purple' ,\n",
    "}\n",
    "\n",
    "# add a color to each class (label)\n",
    "ad['color'] = ad['label'].map(label_color)"
   ]
  },
  {
   "cell_type": "code",
   "execution_count": 10,
   "metadata": {
    "pycharm": {
     "name": "#%%\n"
    }
   },
   "outputs": [
    {
     "name": "stdout",
     "output_type": "stream",
     "text": [
      "0         1502\n",
      "1         1667\n",
      "2         1611\n",
      "3         1601\n",
      "4         1643\n",
      "          ... \n",
      "162495    1926\n",
      "162496    1927\n",
      "162497    1930\n",
      "162498    1929\n",
      "162499    1926\n",
      "Name: x acc, Length: 162500, dtype: int64\n"
     ]
    }
   ],
   "source": [
    "# The goal of the modeling is to see if it is possible to classify an unknown\n",
    "# activity (one or a set of data points). This is classification, so possible\n",
    "# models are knn, decision tree."
   ]
  },
  {
   "cell_type": "code",
   "execution_count": 21,
   "outputs": [
    {
     "data": {
      "text/plain": "array([[ 8015,    11,    32,     4,   137,   124,     2],\n       [   23,    34,    14,    16,    79,    85,     1],\n       [   46,    17,   295,    16,   118,   297,     5],\n       [   18,    15,    39,   935,  1571,   190,     9],\n       [  220,    81,   113,  1034, 19110,   527,    24],\n       [  237,   106,   314,   199,   733,  4960,    89],\n       [   27,    14,    31,    61,   163,   393,    41]])"
     },
     "execution_count": 21,
     "metadata": {},
     "output_type": "execute_result"
    }
   ],
   "source": [
    "# KNN\n",
    "X = ad.loc[:, ['x', 'y', 'z']]\n",
    "y = ad.loc[:, 'label']\n",
    "\n",
    "X_train, X_test, y_train, y_test = train_test_split(X, y, random_state=0)\n",
    "\n",
    "neighbours = 3\n",
    "clf = KNeighborsClassifier(n_neighbors=neighbours)\n",
    "fit = clf.fit(X_train, y_train)\n",
    "predicted = fit.predict(X_test)\n",
    "confusion_matrix(y_test, predicted)"
   ],
   "metadata": {
    "collapsed": false,
    "pycharm": {
     "name": "#%%\n"
    }
   }
  },
  {
   "cell_type": "code",
   "execution_count": null,
   "outputs": [],
   "source": [
    "\n"
   ],
   "metadata": {
    "collapsed": false,
    "pycharm": {
     "name": "#%%\n"
    }
   }
  }
 ],
 "metadata": {
  "kernelspec": {
   "display_name": "Python 3",
   "language": "python",
   "name": "python3"
  },
  "language_info": {
   "codemirror_mode": {
    "name": "ipython",
    "version": 3
   },
   "file_extension": ".py",
   "mimetype": "text/x-python",
   "name": "python",
   "nbconvert_exporter": "python",
   "pygments_lexer": "ipython3",
   "version": "3.8.3"
  }
 },
 "nbformat": 4,
 "nbformat_minor": 1
}